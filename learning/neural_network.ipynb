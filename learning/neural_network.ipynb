{
 "cells": [
  {
   "cell_type": "code",
   "execution_count": 1,
   "id": "5865b78c-babd-4a02-a527-286befd56b0c",
   "metadata": {},
   "outputs": [],
   "source": [
    "import torch"
   ]
  },
  {
   "cell_type": "code",
   "execution_count": 7,
   "id": "5f409531-d077-40ae-b586-a48301194c07",
   "metadata": {},
   "outputs": [],
   "source": [
    "## creating input_tensor with three feature\n",
    "\n",
    "input_tensor = torch.tensor([[1.5,3.34,4.98]])"
   ]
  },
  {
   "cell_type": "markdown",
   "id": "8e8a1fec-4399-44da-a841-cc4e0a52f1fd",
   "metadata": {},
   "source": [
    "### A linear layer takes an input, applies a linear function and return output"
   ]
  },
  {
   "cell_type": "code",
   "execution_count": 5,
   "id": "75317c59-35eb-4ead-a799-427aba643be0",
   "metadata": {},
   "outputs": [],
   "source": [
    "## Define our first Linear layer\n",
    "import torch.nn as nn\n",
    "\n",
    "linear_layer = nn.Linear(in_features=3, out_features=2)"
   ]
  },
  {
   "cell_type": "code",
   "execution_count": 8,
   "id": "810d2067-8e81-4a4a-991a-29137d5ffcd2",
   "metadata": {},
   "outputs": [],
   "source": [
    "output = linear_layer(input_tensor)"
   ]
  },
  {
   "cell_type": "code",
   "execution_count": 9,
   "id": "45a1b7d1-2c17-4e98-af13-b9dcd993cd3e",
   "metadata": {},
   "outputs": [
    {
     "data": {
      "text/plain": [
       "tensor([[ 1.2933, -0.0728]], grad_fn=<AddmmBackward0>)"
      ]
     },
     "execution_count": 9,
     "metadata": {},
     "output_type": "execute_result"
    }
   ],
   "source": [
    "output"
   ]
  },
  {
   "cell_type": "markdown",
   "id": "4b484fcc-bcd4-4a85-96be-74fc6f872728",
   "metadata": {},
   "source": [
    "## getting to know the linear layer operation\n"
   ]
  },
  {
   "cell_type": "code",
   "execution_count": 12,
   "id": "9f2dc145-4e3c-4200-aef3-35f4f8ec2352",
   "metadata": {},
   "outputs": [
    {
     "name": "stdout",
     "output_type": "stream",
     "text": [
      "linear layer weight: Parameter containing:\n",
      "tensor([[ 0.3294,  0.1607,  0.1126],\n",
      "        [ 0.2779,  0.1228, -0.2334]], requires_grad=True)\n",
      "\n",
      "linear layer bias: Parameter containing:\n",
      "tensor([-0.2980,  0.2626], requires_grad=True)\n"
     ]
    }
   ],
   "source": [
    "## Each linear layer has a .weight\n",
    "print('linear layer weight:', linear_layer.weight)\n",
    "\n",
    "print()\n",
    "\n",
    "## and .bias property\n",
    "print('linear layer bias:', linear_layer.bias)\n"
   ]
  },
  {
   "attachments": {
    "c2f96ec5-6cba-432b-ada5-f3cb21c0977e.png": {
     "image/png": "[encoded data removed]"
    }
   },
   "cell_type": "markdown",
   "id": "9c27dc3c-8ea0-4532-8c75-8c4cd7ceed4e",
   "metadata": {},
   "source": [
    "## What operation does nn.Linear() perform\n",
    "- when input_tensor is passed to linear_layer, the linear operation performed matrix multiplication of input_tensor and the wight followed by adding in the bias\n",
    "\n",
    "- put formally\n",
    "\n",
    "![image.png](attachment:c2f96ec5-6cba-432b-ada5-f3cb21c0977e.png)\n",
    "\n",
    "- for input ```X```, wight ```W0``` and bias ```b0```, the linear layer perform.\n",
    "\n",
    "\n",
    "```y0 = W0.X + b0```\n",
    "\n",
    "\n",
    "- initially wight and bias are created randomly\n",
    "\n",
    "- Network with only linear layer are called fully connected\n",
    "\n",
    "- each neuron in one layer in connected to each neuron is the next layer"
   ]
  },
  {
   "cell_type": "markdown",
   "id": "d5caec73-4a24-49da-bb35-5f9302644248",
   "metadata": {},
   "source": [
    "## Stacking Layer with nn.Sequential()\n",
    "- a pytorch container that allow us to stack multiple neural network modules in sequence"
   ]
  },
  {
   "cell_type": "code",
   "execution_count": 13,
   "id": "844e66cd-db77-4cd3-af1d-27dce319436f",
   "metadata": {},
   "outputs": [],
   "source": [
    "# A neural network with multiple layers\n",
    "\n",
    "model = nn.Sequential(\n",
    "    nn.Linear(10,18),\n",
    "    nn.Linear(18,20),\n",
    "    nn.Linear(20,5)\n",
    ")"
   ]
  },
  {
   "cell_type": "code",
   "execution_count": 20,
   "id": "7bcdf5de-250f-4a14-bda0-ffb02eb72fc6",
   "metadata": {},
   "outputs": [
    {
     "data": {
      "text/plain": [
       "tensor([[0.3462, 0.9510, 0.1951, 0.1630, 0.6774, 0.9034, 0.5157, 0.8831, 0.4864,\n",
       "         0.9386]])"
      ]
     },
     "execution_count": 20,
     "metadata": {},
     "output_type": "execute_result"
    }
   ],
   "source": [
    "input_tensor = torch.rand(1,10)\n",
    "input_tensor"
   ]
  },
  {
   "cell_type": "code",
   "execution_count": 21,
   "id": "583c8852-c971-40ca-ad2a-a81fb9e9624e",
   "metadata": {},
   "outputs": [
    {
     "name": "stdout",
     "output_type": "stream",
     "text": [
      "tensor([[-0.2743, -0.0935,  0.0355,  0.1347, -0.1388]],\n",
      "       grad_fn=<AddmmBackward0>)\n"
     ]
    }
   ],
   "source": [
    "# pass input_tensor to modal to obtain output\n",
    "output_tensor = model(input_tensor)\n",
    "print(output_tensor)"
   ]
  },
  {
   "cell_type": "markdown",
   "id": "a08afa21-3943-4058-8618-95554625df30",
   "metadata": {},
   "source": [
    "# Exercise"
   ]
  },
  {
   "cell_type": "markdown",
   "id": "a39b94f6-f5a8-4783-9c91-dcc7b1e90bfe",
   "metadata": {},
   "source": [
    "### Your first neural network\n",
    "In this exercise, you will implement a small neural network containing two linear layers. The first layer takes an eight-dimensional input, and the last layer outputs a one-dimensional tensor.\n",
    "\n",
    "The torch package and the torch.nn package have already been imported for you."
   ]
  },
  {
   "cell_type": "code",
   "execution_count": 1,
   "id": "fb12bad6-d04a-4983-880d-5a137cadac4f",
   "metadata": {},
   "outputs": [
    {
     "name": "stdout",
     "output_type": "stream",
     "text": [
      "tensor([[1.9381]], grad_fn=<AddmmBackward0>)\n"
     ]
    }
   ],
   "source": [
    "import torch\n",
    "import torch.nn as nn\n",
    "\n",
    "input_tensor = torch.Tensor([[2, 3, 6, 7, 9, 3, 2, 1]])\n",
    "\n",
    "# Implement a small neural network with two linear layers\n",
    "model = nn.Sequential(\n",
    "                        nn.Linear(8,10),\n",
    "                        nn.Linear(10,1)\n",
    "                     )\n",
    "\n",
    "output = model(input_tensor)\n",
    "print(output)"
   ]
  },
  {
   "cell_type": "code",
   "execution_count": null,
   "id": "8206e767",
   "metadata": {},
   "outputs": [],
   "source": []
  },
  {
   "cell_type": "markdown",
   "id": "b2a9aaec",
   "metadata": {},
   "source": [
    "# The one neuron network "
   ]
  },
  {
   "cell_type": "code",
   "execution_count": 1,
   "id": "3aec9802",
   "metadata": {},
   "outputs": [
    {
     "data": {
      "text/plain": [
       "tensor([[ 50.0000],\n",
       "        [100.4000],\n",
       "        [212.0000],\n",
       "        [302.0000],\n",
       "        [ 41.9000]], grad_fn=<AddmmBackward0>)"
      ]
     },
     "execution_count": 1,
     "metadata": {},
     "output_type": "execute_result"
    }
   ],
   "source": [
    "# Convert Celsius to Fahrenheit\n",
    "\n",
    "import torch\n",
    "import torch.nn as nn\n",
    "\n",
    "\n",
    "c = torch.tensor([[10], [38], [100],[150], [5.5]], dtype=torch.float32)\n",
    "model =  nn.Linear(1,1)\n",
    "model.weight = nn.Parameter( torch.tensor([[1.8]]))\n",
    "model.bias = nn.Parameter(torch.tensor([32.0]))\n",
    "\n",
    "\n",
    "result = model(c)\n",
    "\n",
    "result\n"
   ]
  },
  {
   "cell_type": "code",
   "execution_count": null,
   "id": "5934e55a",
   "metadata": {},
   "outputs": [],
   "source": []
  },
  {
   "cell_type": "code",
   "execution_count": 3,
   "id": "80ea46fd",
   "metadata": {},
   "outputs": [],
   "source": []
  },
  {
   "cell_type": "code",
   "execution_count": 12,
   "id": "cf8090fc",
   "metadata": {},
   "outputs": [],
   "source": []
  },
  {
   "cell_type": "code",
   "execution_count": null,
   "id": "5a170960",
   "metadata": {},
   "outputs": [],
   "source": []
  },
  {
   "cell_type": "code",
   "execution_count": null,
   "id": "91487500",
   "metadata": {},
   "outputs": [],
   "source": []
  },
  {
   "cell_type": "code",
   "execution_count": null,
   "id": "e47e5160",
   "metadata": {},
   "outputs": [],
   "source": []
  },
  {
   "cell_type": "code",
   "execution_count": null,
   "id": "390bbddf",
   "metadata": {},
   "outputs": [],
   "source": []
  },
  {
   "cell_type": "code",
   "execution_count": null,
   "id": "4afcca1e",
   "metadata": {},
   "outputs": [],
   "source": []
  },
  {
   "cell_type": "code",
   "execution_count": null,
   "id": "ee14ac77",
   "metadata": {},
   "outputs": [],
   "source": []
  },
  {
   "cell_type": "code",
   "execution_count": null,
   "id": "38f07cdf",
   "metadata": {},
   "outputs": [],
   "source": []
  },
  {
   "cell_type": "code",
   "execution_count": null,
   "id": "3f85e71d",
   "metadata": {},
   "outputs": [],
   "source": []
  },
  {
   "cell_type": "code",
   "execution_count": null,
   "id": "d119a477",
   "metadata": {},
   "outputs": [],
   "source": []
  },
  {
   "cell_type": "code",
   "execution_count": null,
   "id": "e48ec17a",
   "metadata": {},
   "outputs": [],
   "source": []
  }
 ],
 "metadata": {
  "kernelspec": {
   "display_name": "learning_llm_udemy",
   "language": "python",
   "name": "python3"
  },
  "language_info": {
   "codemirror_mode": {
    "name": "ipython",
    "version": 3
   },
   "file_extension": ".py",
   "mimetype": "text/x-python",
   "name": "python",
   "nbconvert_exporter": "python",
   "pygments_lexer": "ipython3",
   "version": "3.12.7"
  }
 },
 "nbformat": 4,
 "nbformat_minor": 5
}
