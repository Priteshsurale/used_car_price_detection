{
 "cells": [
  {
   "cell_type": "code",
   "execution_count": 1,
   "id": "c25101ae-059a-4c23-8afc-1067ec2e9f43",
   "metadata": {},
   "outputs": [],
   "source": [
    "import torch"
   ]
  },
  {
   "cell_type": "code",
   "execution_count": 2,
   "id": "ad35d749-7e8c-4f74-be32-b9a450a15f0f",
   "metadata": {},
   "outputs": [],
   "source": [
    "array  = [[1,2,3], [4,5,6]]"
   ]
  },
  {
   "cell_type": "markdown",
   "id": "039234d3-4f9e-46f7-a4a2-96089457a5f0",
   "metadata": {},
   "source": [
    "# Create Tensor with Array"
   ]
  },
  {
   "cell_type": "code",
   "execution_count": 3,
   "id": "188f3fdc-f7bb-427f-a227-24d4bce1add8",
   "metadata": {},
   "outputs": [],
   "source": [
    "tensor = torch.tensor(array)"
   ]
  },
  {
   "cell_type": "code",
   "execution_count": 4,
   "id": "7aa43a69-442e-451e-9328-c3ac0855ec95",
   "metadata": {},
   "outputs": [
    {
     "data": {
      "text/plain": [
       "tensor([[1, 2, 3],\n",
       "        [4, 5, 6]])"
      ]
     },
     "execution_count": 4,
     "metadata": {},
     "output_type": "execute_result"
    }
   ],
   "source": [
    "tensor"
   ]
  },
  {
   "cell_type": "code",
   "execution_count": 10,
   "id": "3d9d5394-6062-4a0d-8977-a59938da48d4",
   "metadata": {},
   "outputs": [
    {
     "data": {
      "text/plain": [
       "torch.int64"
      ]
     },
     "execution_count": 10,
     "metadata": {},
     "output_type": "execute_result"
    }
   ],
   "source": [
    "## data type of tensor\n",
    "\n",
    "tensor.dtype"
   ]
  },
  {
   "cell_type": "code",
   "execution_count": 11,
   "id": "0990bb73-20d1-4fdd-a1a2-6d4846af5429",
   "metadata": {},
   "outputs": [
    {
     "data": {
      "text/plain": [
       "torch.Size([2, 3])"
      ]
     },
     "execution_count": 11,
     "metadata": {},
     "output_type": "execute_result"
    }
   ],
   "source": [
    "## Shape of the tensor\n",
    "\n",
    "tensor.shape"
   ]
  },
  {
   "cell_type": "code",
   "execution_count": 12,
   "id": "88077716-3fcc-422f-852c-049ff503ce2f",
   "metadata": {},
   "outputs": [
    {
     "data": {
      "text/plain": [
       "device(type='cpu')"
      ]
     },
     "execution_count": 12,
     "metadata": {},
     "output_type": "execute_result"
    }
   ],
   "source": [
    "## check the tensor are loaded on GPU or CPU\n",
    "\n",
    "tensor.device"
   ]
  },
  {
   "cell_type": "code",
   "execution_count": null,
   "id": "70058cd7-7413-4011-b401-db4a62859beb",
   "metadata": {},
   "outputs": [],
   "source": []
  },
  {
   "cell_type": "markdown",
   "id": "315863f9-59ef-490f-83b2-25658fa0f4c2",
   "metadata": {},
   "source": [
    "# Exercise"
   ]
  },
  {
   "cell_type": "markdown",
   "id": "afe6b4f9-24a7-455d-b587-421f2a3c5441",
   "metadata": {},
   "source": [
    "### Getting started with PyTorch tensors\n",
    "Tensors are the primary data structure in PyTorch and will be the building blocks for our deep learning models. They share many similarities with NumPy arrays but have some unique attributes too.\n",
    "\n",
    "In this exercise, you'll practice creating a tensor from a Python list of temperature data from two weather stations. The Python list is named temperatures and has two sublists whose elements represent a different day each, with columns for readings from two stations."
   ]
  },
  {
   "cell_type": "code",
   "execution_count": 13,
   "id": "4a9a01ea-93a6-4909-a50d-407621d68762",
   "metadata": {},
   "outputs": [
    {
     "name": "stdout",
     "output_type": "stream",
     "text": [
      "tensor([[72, 75, 78],\n",
      "        [70, 73, 76]])\n"
     ]
    }
   ],
   "source": [
    "# Import PyTorch\n",
    "import torch\n",
    "\n",
    "temperatures = [[72, 75, 78], [70, 73, 76]]\n",
    "\n",
    "# Create a tensor from temperatures\n",
    "temp_tensor = torch.tensor(temperatures)\n",
    "\n",
    "print(temp_tensor)"
   ]
  },
  {
   "cell_type": "markdown",
   "id": "82021bb8-851d-49db-8241-282ee943c75b",
   "metadata": {},
   "source": [
    "### Checking and adding tensors\n",
    "While continuing your temperature data collection, you realize that the recorded temperatures are off by 2 degrees, so you need to add 2 degrees to the tensor of temperatures. Before adjusting the data, you want to verify the shape and type of the tensor, to make sure they are compatible to be added together. The torch library has been pre-imported."
   ]
  },
  {
   "cell_type": "code",
   "execution_count": 15,
   "id": "bd10196d-7444-49a5-918a-5047712f8c9e",
   "metadata": {},
   "outputs": [
    {
     "name": "stdout",
     "output_type": "stream",
     "text": [
      "Shape of temperatures: torch.Size([2, 3])\n",
      "Data type of temperatures: torch.int64\n",
      "Corrected temperatures: tensor([[74, 77, 80],\n",
      "        [72, 75, 78]])\n"
     ]
    }
   ],
   "source": [
    "temperatures = torch.tensor([[72, 75, 78], [70, 73, 76]])\n",
    "adjustment = torch.tensor([[2, 2, 2], [2, 2, 2]])\n",
    "\n",
    "# Check the shape of the temperatures tensor\n",
    "temp_shape = temperatures.shape\n",
    "print(\"Shape of temperatures:\", temp_shape)\n",
    "\n",
    "# Check the type of the temperatures tensor\n",
    "temp_type = temperatures.dtype\n",
    "print(\"Data type of temperatures:\", temp_type)\n",
    "\n",
    "# Adjust the temperatures by adding the adjustment tensor\n",
    "corrected_temperatures = temperatures + adjustment\n",
    "\n",
    "print(\"Corrected temperatures:\", corrected_temperatures)"
   ]
  }
 ],
 "metadata": {
  "kernelspec": {
   "display_name": "Python 3 (ipykernel)",
   "language": "python",
   "name": "python3"
  },
  "language_info": {
   "codemirror_mode": {
    "name": "ipython",
    "version": 3
   },
   "file_extension": ".py",
   "mimetype": "text/x-python",
   "name": "python",
   "nbconvert_exporter": "python",
   "pygments_lexer": "ipython3",
   "version": "3.12.7"
  }
 },
 "nbformat": 4,
 "nbformat_minor": 5
}
